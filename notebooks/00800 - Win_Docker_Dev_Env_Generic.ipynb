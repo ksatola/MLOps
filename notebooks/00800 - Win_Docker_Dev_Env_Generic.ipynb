{
 "cells": [
  {
   "cell_type": "markdown",
   "metadata": {},
   "source": [
    "# Docker container as a development environment with Visual Studio Code\n",
    "\n",
    "# IMPORTANT!\n",
    "- VSC cannot be used efficiently using standard Dockerfiles\n",
    "- Although this document works in very simple cases, it is better to refer to 20340 - Docker_Loccal_VSC...ipynb for more robust setup\n",
    "\n",
    "Ref: \n",
    "- https://docs.microsoft.com/en-us/learn/modules/use-docker-container-dev-env-vs-code/\n",
    "- https://code.visualstudio.com/docs/remote/containers-tutorial"
   ]
  },
  {
   "cell_type": "markdown",
   "metadata": {},
   "source": [
    "You'll add configuration files to an existing project. These files will tell Visual Studio Code how to build an environment where the project will \"just work.\" You'll use the Remote - Containers configuration to configure the runtime. You'll also automate configuration of a development environment that will work for anyone who has Docker and Visual Studio Code."
   ]
  },
  {
   "cell_type": "markdown",
   "metadata": {},
   "source": [
    "## Prerequisites\n",
    "Installed locally:\n",
    "- [Visual Studio Code](https://code.visualstudio.com/)\n",
    "- [Git](https://git-scm.com/)\n",
    "- Docker Desktop:\n",
    "    - [Windows: Docker Desktop](https://www.docker.com/products/docker-desktop)\n",
    "    - [Mac: Docker Desktop 2.0+.](https://hub.docker.com/editions/community/docker-ce-desktop-mac)"
   ]
  },
  {
   "cell_type": "markdown",
   "metadata": {},
   "source": [
    "## Clone a repo"
   ]
  },
  {
   "cell_type": "markdown",
   "metadata": {},
   "source": [
    "```\n",
    "Ensure that Docker Desktop is installed and running on your machine.\n",
    "\n",
    "1. Copy the URL for the sample repo to your clipboard.\n",
    "https://github.com/MicrosoftDocs/mslearn-python-products\n",
    "2. Open a new instance of Visual Studio Code.\n",
    "3. Select the Clone Repository button in the sidebar, or press F1 to open the Command Palette and search for Git: Clone.\n",
    "4. Paste in the URL from your clipboard.\n",
    "5. Select a location on your disk where the project can be cloned to.\n",
    "6. Select Open from the notification in Visual Studio Code.\n",
    "7. Select \"Yes, I trust the authors\".\n",
    "\n",
    "DO NOT install Python\n",
    "```"
   ]
  },
  {
   "cell_type": "markdown",
   "metadata": {},
   "source": [
    "## Install the Remote - Containers extension"
   ]
  },
  {
   "cell_type": "markdown",
   "metadata": {},
   "source": [
    "```\n",
    "1. Press Ctrl + Shift + X to open the Extensions viewlet, or click on the \"Extensions\" icon in the activity bar.\n",
    "2. Type remote containers.\n",
    "3. Locate the Remote - Containers extension and select the Install button.\n",
    "```"
   ]
  },
  {
   "cell_type": "markdown",
   "metadata": {},
   "source": [
    "The Remote - Containers extension lets you grab a dev container with the specific technology stack or dependencies already set up for you, open a project, and find that your code just works without downloading anything on your local machine. Remote - Containers works by connecting Visual Studio Code to a running container. Workspace files are mounted from the local file system, or they're copied or cloned into the container.\n",
    "\n",
    "Visual Studio Code extensions are installed and run inside the container. There, they have full access to the tools, platform, and file system. To you, the developer, the experience is the same as if you had opened the project normally in Visual Studio Code.\n",
    "\n",
    "You can seamlessly switch your entire development environment just by connecting to a different container. The extension handles all of the setup based on a few configuration files contained in a folder called **.devcontainer**.\n",
    "\n",
    "https://docs.docker.com/storage/bind-mounts/\n",
    "\n",
    "<img src=\"images/dev-env-2-architecture-containers.png\" alt=\"\" style=\"width: 800px;\"/>\n",
    "\n",
    "The remote container extension uses the files in the .devcontainer folder, namely devcontainer.json, and an optional Dockerfile or docker-compose.yml, to create your dev containers.\n",
    "\n",
    "First your image is built from the supplied Docker file or image name. Then a container is created and started using some of the settings in the devcontainer.json. Finally your Visual Studio Code environment is installed and configured again according to settings in the devcontainer.json.\n",
    "\n",
    "Once all of this is done, your local copy of Visual Studio Code connects to the Visual Studio Code Server running inside of your new dev container."
   ]
  },
  {
   "cell_type": "markdown",
   "metadata": {},
   "source": [
    "## Windows Only : Configure Docker"
   ]
  },
  {
   "cell_type": "markdown",
   "metadata": {},
   "source": [
    "```\n",
    "1. Right-click on the Docker task bar item, select Settings > Resources > File Sharing and add the location where you cloned the sample project in the previous step. This option is not available if you have enabled the WSL 2 back-end.\n",
    "```"
   ]
  },
  {
   "cell_type": "markdown",
   "metadata": {},
   "source": [
    "## Add a dev container\n"
   ]
  },
  {
   "cell_type": "markdown",
   "metadata": {},
   "source": [
    "```\n",
    "1. Open the Command Palette -> F1.\n",
    "2. Type add dev container.\n",
    "3. Select Remote-Containers: Add Development Container Configuration Files.\n",
    "4. Select the following options:\n",
    "Select a container configuration definition->Python 3\n",
    "Python version->3 (default)\n",
    "Install Node.js->none\n",
    "5. Select OK.\n",
    "```"
   ]
  },
  {
   "cell_type": "markdown",
   "metadata": {},
   "source": [
    "## Inspect configuration files"
   ]
  },
  {
   "cell_type": "markdown",
   "metadata": {},
   "source": [
    "```\n",
    "1. Notice that a new folder called .devcontainer has been added to the project.\n",
    "2. Expand that folder and notice that it contains both a Dockerfile and a devcontainer.json file.\n",
    "```"
   ]
  },
  {
   "cell_type": "markdown",
   "metadata": {},
   "source": [
    "## Open the project in a container"
   ]
  },
  {
   "cell_type": "markdown",
   "metadata": {},
   "source": [
    "```\n",
    "1. Open the Command Palette.\n",
    "2. Type reopen in container.\n",
    "3. Select Remote Containers: Reopen in Container from the list of available options.\n",
    "\n",
    "The container will begin building. The initial build might take a few minutes because a new image has to be pulled down and built on your machine. After the container has been built the first time, later builds will be much faster.\n",
    "```"
   ]
  },
  {
   "cell_type": "markdown",
   "metadata": {},
   "source": [
    "## Inspect the container"
   ]
  },
  {
   "cell_type": "markdown",
   "metadata": {},
   "source": [
    "```\n",
    "1. Press Ctrl + ` to open the integrated terminal in Visual Studio Code if it is not already open.\n",
    "2. Notice that the terminal probably looks different from your normal terminal.\n",
    "3. Run the following command to ensure that Python is there:\n",
    "python --version\n",
    "```"
   ]
  },
  {
   "cell_type": "markdown",
   "metadata": {},
   "source": [
    "## Install project dependencies"
   ]
  },
  {
   "cell_type": "markdown",
   "metadata": {},
   "source": [
    "```\n",
    "pip3 install --user -r requirements.txt\n",
    "```"
   ]
  },
  {
   "cell_type": "markdown",
   "metadata": {},
   "source": [
    "## Run the project"
   ]
  },
  {
   "cell_type": "markdown",
   "metadata": {},
   "source": [
    "```\n",
    "1. Enter the following command in the terminal to start the project:\n",
    "python app.py\n",
    "2. Open the project in a browser by navigating to http://127.0.0.1:5000.\n",
    "```"
   ]
  },
  {
   "cell_type": "markdown",
   "metadata": {},
   "source": [
    "## Customize container settings"
   ]
  },
  {
   "cell_type": "markdown",
   "metadata": {},
   "source": [
    "```\n",
    "Reopen the project locally\n",
    "\n",
    "Before you change the container configuration, you need to reopen the project locally.\n",
    "1. Press F1 to open the Command Palette.\n",
    "2. Type locally and select Remote-Containers: Reopen Locally.\n",
    "3. Open the devcontainer.json file in the .devcontainer folder if it's not open already.\n",
    "\n",
    "\n",
    "Install Visual Studio Code extensions\n",
    "\n",
    "The container comes with the Microsoft Python extension. The Python extension enables snippets, linting, and IntelliSense in Python files. But the index.html file in the templates folder is a Jinja template, and a different extension needs to be installed to get syntax highlighting in that file.\n",
    "\n",
    "1. Open the Command Palette.\n",
    "2. Type extension and select Extensions: Install Extensions.\n",
    "3. In the extension explorer on the right, search for jinja.\n",
    "4. Right-click the Jinja extension from wholroyd and select Add to devcontainer.json.\n",
    "5. Notice that the extension ID has been added to the extensions option.\n",
    "```"
   ]
  },
  {
   "cell_type": "markdown",
   "metadata": {},
   "source": [
    "## Rebuild the new container"
   ]
  },
  {
   "cell_type": "markdown",
   "metadata": {},
   "source": [
    "```\n",
    "Rebuild the new container\n",
    "1. Open the Command Palette.\n",
    "2. Type rebuild and select Remote-Containers: Rebuild and Reopen in Container.\n",
    "```"
   ]
  },
  {
   "cell_type": "markdown",
   "metadata": {},
   "source": [
    "## Run the app"
   ]
  },
  {
   "cell_type": "markdown",
   "metadata": {},
   "source": [
    "```\n",
    "Run the app\n",
    "1. Press Ctrl + ` to open the Visual Studio Code integrated terminal.\n",
    "2. Run the app by using the following command:\n",
    "python app.py\n",
    "3. Notice that you didn't have to install any dependencies. The application simply runs.\n",
    "```"
   ]
  },
  {
   "cell_type": "markdown",
   "metadata": {},
   "source": [
    "## Software installation via Dockerfile"
   ]
  },
  {
   "cell_type": "markdown",
   "metadata": {},
   "source": [
    "```\n",
    "ARG VARIANT=3\n",
    "FROM mcr.microsoft.com/vscode/devcontainers/python:${VARIANT}\n",
    "RUN apt-get update && export DEBIAN_FRONTEND=noninteractive \\\n",
    "    && apt-get install -y traceroute\n",
    "\n",
    "- The RUN command creates a new layer. Layers are how the container knows what has changed and what in the container needs to be updated when you rebuild it. You should try to keep related logic together in the same RUN command so that you don't create unnecessary layers.\n",
    "- The \\ denotes a line break at the end of a line. You need it for multiple-line commands.\n",
    "- The && is how you add a command to the RUN line.\n",
    "- The DEBIAN_FRONTEND export avoids warnings when you go on to work with your container. When you're adding other software, you might instead use other flags or parameters, such as -y.\n",
    "- The -y ensures that apt-get doesn't prompt you to confirm that you want to finish the installation. These prompts would cause the container build to fail because nobody would be there to select Y or N.\n",
    "```"
   ]
  },
  {
   "cell_type": "markdown",
   "metadata": {},
   "source": [
    "## devcontainer.json"
   ]
  },
  {
   "cell_type": "markdown",
   "metadata": {},
   "source": [
    "```\n",
    "//devcontainer.json\n",
    "{\n",
    "  \"name\": \"Node.js Sample\",\n",
    "  \"dockerFile\": \"Dockerfile\",\n",
    "\n",
    "  \"settings\": {\n",
    "    \"terminal.integrated.shell.linux\": \"/bin/bash\"\n",
    "  },\n",
    "\n",
    "  \"extensions\": [\"dbaeumer.vscode-eslint\"],\n",
    "\n",
    "  \"forwardPorts\": [3000],\n",
    "\n",
    "  \"postCreateCommand\": \"yarn install\",\n",
    "\n",
    "  \"remoteUser\": \"node\"\n",
    "}\n",
    "```"
   ]
  },
  {
   "cell_type": "code",
   "execution_count": null,
   "metadata": {},
   "outputs": [],
   "source": []
  }
 ],
 "metadata": {
  "kernelspec": {
   "display_name": "Python 3",
   "language": "python",
   "name": "python3"
  },
  "language_info": {
   "codemirror_mode": {
    "name": "ipython",
    "version": 3
   },
   "file_extension": ".py",
   "mimetype": "text/x-python",
   "name": "python",
   "nbconvert_exporter": "python",
   "pygments_lexer": "ipython3",
   "version": "3.8.10"
  }
 },
 "nbformat": 4,
 "nbformat_minor": 5
}
