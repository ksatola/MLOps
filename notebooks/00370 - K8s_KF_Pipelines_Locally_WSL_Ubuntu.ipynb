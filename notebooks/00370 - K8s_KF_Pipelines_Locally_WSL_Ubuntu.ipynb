{
 "cells": [
  {
   "cell_type": "markdown",
   "id": "29aa3ead-c676-49f9-b2e6-a34ac0edc9c7",
   "metadata": {},
   "source": [
    "# Installation Notes for K8s (minikube) and Kubeflow PIPELINES Locally on WSL Ubuntu"
   ]
  },
  {
   "cell_type": "markdown",
   "id": "91947b5e-5c0c-465f-8ba2-d0f3afdbe371",
   "metadata": {},
   "source": [
    "# Kubeflow Pipelines"
   ]
  },
  {
   "cell_type": "markdown",
   "id": "225d4e09-8860-4d81-98ae-75daf2746ec7",
   "metadata": {},
   "source": [
    "## Docker\n",
    "```\n",
    "# Install Docker Desktop (for Windows or macOS)\n",
    "# Enable WSL2 support in Docker settings\n",
    "# https://docs.docker.com/desktop/windows/install/\n",
    "# Docker installed inside WSL has internet connectivity issues with minikube (Use Docker Desktop instead)\n",
    "```\n",
    "https://docs.docker.com/engine/install/ubuntu/\n",
    "```\n",
    "$ sudo apt-get remove docker docker-engine docker.io containerd runc\n",
    "\n",
    "$ sudo apt-get update\n",
    "\n",
    "$ sudo apt-get install apt-transport-https ca-certificates curl gnupg lsb-release\n",
    "\n",
    "$ curl -fsSL https://download.docker.com/linux/ubuntu/gpg | sudo gpg --dearmor -o /usr/share/keyrings/docker-archive-keyring.gpg\n",
    "\n",
    "$ echo \"deb [arch=amd64 signed-by=/usr/share/keyrings/docker-archive-keyring.gpg] https://download.docker.com/linux/ubuntu $(lsb_release -cs) stable\" | sudo tee /etc/apt/sources.list.d/docker.list > /dev/null\n",
    "\n",
    "$ sudo apt-get update\n",
    "$ sudo apt-get install docker-ce docker-ce-cli containerd.io\n",
    "\n",
    "$ sudo dockerd\n",
    "$ docker run hello-world\n",
    "```"
   ]
  },
  {
   "cell_type": "markdown",
   "id": "c250535b-6cc5-4f18-a250-7f42bd3f5f4e",
   "metadata": {},
   "source": [
    "## Kubernetes cluster (minikube)\n",
    "https://kubernetes.io/docs/tutorials/hello-minikube/\n",
    "```\n",
    "# https://minikube.sigs.k8s.io/docs/start/\n",
    "\n",
    "curl -LO https://storage.googleapis.com/minikube/releases/latest/minikube-linux-amd64\n",
    "sudo install minikube-linux-amd64 /usr/local/bin/minikube\n",
    "\n",
    "sudo dockerd\n",
    "\n",
    "minikube start --cpus 12 --memory 16g --disk-size 40g --driver=docker\n",
    "\n",
    "watch -c minikube kubectl -- get po -A\n",
    "\n",
    "minikube logs\n",
    "\n",
    "#alias kubectl='minikube kubectl'\n",
    "\n",
    "minikube dashboard\n",
    "```"
   ]
  },
  {
   "cell_type": "markdown",
   "id": "c23d35c1-1806-478c-9c45-4384e9f361dd",
   "metadata": {},
   "source": [
    "## Kubeflow Pipelines\n",
    "https://www.kubeflow.org/docs/components/pipelines/overview/pipelines-overview/\n",
    "```\n",
    "# env/platform-agnostic-pns hasn't been publically released, so you will install it from master\n",
    "export PIPELINE_VERSION=1.7.0\n",
    "minikube kubectl -- apply -k \"github.com/kubeflow/pipelines/manifests/kustomize/cluster-scoped-resources?ref=$PIPELINE_VERSION\"\n",
    "minikube kubectl -- wait --for condition=established --timeout=60s crd/applications.app.k8s.io\n",
    "minikube kubectl -- apply -k \"github.com/kubeflow/pipelines/manifests/kustomize/env/platform-agnostic-pns?ref=$PIPELINE_VERSION\"\n",
    "\n",
    "minikube logs\n",
    "\n",
    "watch -c minikube kubectl -- get po -A\n",
    "\n",
    "minikube kubectl -- port-forward -n kubeflow svc/ml-pipeline-ui 8585:80\n",
    "# Open: http://localhost:8585/\n",
    "\n",
    "# https://kubernetes.io/docs/reference/kubectl/cheatsheet/\n",
    "minikube kubectl -- get services\n",
    "minikube kubectl -- get pods -n kubeflow\n",
    "\n",
    "\n",
    "```"
   ]
  },
  {
   "cell_type": "markdown",
   "id": "ecad1627-d4d0-4266-8f70-856ad900dee0",
   "metadata": {},
   "source": [
    "## Cleaning\n",
    "```\n",
    "minikube pause\n",
    "minikube unpause\n",
    "minikube stop\n",
    "\n",
    "minikube delete --all\n",
    "\n",
    "# Remove docker if installed inside WSL (Ubuntu)\n",
    "docker system prune\n",
    "# https://docs.docker.com/engine/install/ubuntu/\n",
    "sudo apt-get purge docker-ce docker-ce-cli containerd.io\n",
    "sudo rm -rf /var/lib/docker\n",
    "sudo rm -rf /var/lib/containerd\n",
    "```"
   ]
  },
  {
   "cell_type": "code",
   "execution_count": null,
   "id": "880019ed-37c8-42b0-9e06-61337ea5d494",
   "metadata": {},
   "outputs": [],
   "source": []
  }
 ],
 "metadata": {
  "kernelspec": {
   "display_name": "Python 3",
   "language": "python",
   "name": "python3"
  },
  "language_info": {
   "codemirror_mode": {
    "name": "ipython",
    "version": 3
   },
   "file_extension": ".py",
   "mimetype": "text/x-python",
   "name": "python",
   "nbconvert_exporter": "python",
   "pygments_lexer": "ipython3",
   "version": "3.8.5"
  }
 },
 "nbformat": 4,
 "nbformat_minor": 5
}
