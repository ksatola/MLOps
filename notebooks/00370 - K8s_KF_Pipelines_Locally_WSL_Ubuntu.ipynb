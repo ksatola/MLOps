{
 "cells": [
  {
   "cell_type": "markdown",
   "id": "29aa3ead-c676-49f9-b2e6-a34ac0edc9c7",
   "metadata": {},
   "source": [
    "# Installation Notes for K8s (minikube) and Kubeflow PIPELINES Locally on WSL Ubuntu"
   ]
  },
  {
   "cell_type": "markdown",
   "id": "91947b5e-5c0c-465f-8ba2-d0f3afdbe371",
   "metadata": {},
   "source": [
    "# Kubeflow Pipelines"
   ]
  },
  {
   "cell_type": "markdown",
   "id": "225d4e09-8860-4d81-98ae-75daf2746ec7",
   "metadata": {},
   "source": [
    "## Docker\n",
    "https://docs.docker.com/engine/install/ubuntu/\n",
    "```\n",
    "$ sudo apt-get remove docker docker-engine docker.io containerd runc\n",
    "\n",
    "$ sudo apt-get update\n",
    "\n",
    "$ sudo apt-get install apt-transport-https ca-certificates curl gnupg lsb-release\n",
    "\n",
    "$ curl -fsSL https://download.docker.com/linux/ubuntu/gpg | sudo gpg --dearmor -o /usr/share/keyrings/docker-archive-keyring.gpg\n",
    "\n",
    "$ echo \"deb [arch=amd64 signed-by=/usr/share/keyrings/docker-archive-keyring.gpg] https://download.docker.com/linux/ubuntu $(lsb_release -cs) stable\" | sudo tee /etc/apt/sources.list.d/docker.list > /dev/null\n",
    "\n",
    "$ sudo apt-get update\n",
    "$ sudo apt-get install docker-ce docker-ce-cli containerd.io\n",
    "\n",
    "$ sudo dockerd\n",
    "$ docker run hello-world\n",
    "```"
   ]
  },
  {
   "cell_type": "markdown",
   "id": "c250535b-6cc5-4f18-a250-7f42bd3f5f4e",
   "metadata": {},
   "source": [
    "## Kubernetes cluster (minikube)\n",
    "https://kubernetes.io/docs/tutorials/hello-minikube/\n",
    "```\n",
    "# https://minikube.sigs.k8s.io/docs/start/\n",
    "\n",
    "curl -LO https://storage.googleapis.com/minikube/releases/latest/minikube-linux-amd64\n",
    "sudo install minikube-linux-amd64 /usr/local/bin/minikube\n",
    "\n",
    "sudo dockerd\n",
    "\n",
    "minikube start --cpus 12 --memory 16g --disk-size 40g\n",
    "watch -c minikube kubectl -- get po -A\n",
    "\n",
    "#alias kubectl='minikube kubectl'\n",
    "\n",
    "minikube dashboard\n",
    "```"
   ]
  },
  {
   "cell_type": "markdown",
   "id": "c23d35c1-1806-478c-9c45-4384e9f361dd",
   "metadata": {},
   "source": [
    "## Kubeflow Pipelines\n",
    "https://www.kubeflow.org/docs/components/pipelines/overview/pipelines-overview/\n",
    "```\n",
    "export PIPELINE_VERSION=0.5.0\n",
    "# https://minikube.sigs.k8s.io/docs/handbook/kubectl/\n",
    "minikube kubectl -- apply -k \"github.com/kubeflow/pipelines/manifests/kustomize/cluster-scoped-resources?ref=$PIPELINE_VERSION\"\n",
    "minikube kubectl -- wait --for condition=established --timeout=60s crd/applications.app.k8s.io\n",
    "minikube kubectl -- apply -k \"github.com/kubeflow/pipelines/manifests/kustomize/env/dev?ref=$PIPELINE_VERSION\"\n",
    "\n",
    "watch -c minikube kubectl -- get po -A\n",
    "\n",
    "minikube kubectl -- port-forward -n kubeflow svc/ml-pipeline-ui 8585:80\n",
    "# Open: http://localhost:8585/\n",
    "\n",
    "!!! Images are not available and minikube cannot pull them... check in some time in the docs (see link above)\n",
    "\n",
    "#after ca. 20 minutes\n",
    "#export NAMESPACE=istio-system\n",
    "#kubectl port-forward -n ${NAMESPACE} svc/istio-ingressgateway 8585:80\n",
    "# Open: http://localhost:8585/\n",
    "```"
   ]
  },
  {
   "cell_type": "markdown",
   "id": "ecad1627-d4d0-4266-8f70-856ad900dee0",
   "metadata": {},
   "source": [
    "## Cleaning\n",
    "```\n",
    "minikube pause\n",
    "minikube unpause\n",
    "minikube stop\n",
    "\n",
    "minikube delete --all\n",
    "```"
   ]
  },
  {
   "cell_type": "code",
   "execution_count": null,
   "id": "880019ed-37c8-42b0-9e06-61337ea5d494",
   "metadata": {},
   "outputs": [],
   "source": []
  },
  {
   "cell_type": "code",
   "execution_count": null,
   "id": "41310081-fec8-4443-bbdc-3fb6226c752a",
   "metadata": {},
   "outputs": [],
   "source": []
  },
  {
   "cell_type": "code",
   "execution_count": null,
   "id": "0cdb2ab0-1a57-4481-ad39-acfeede21f5a",
   "metadata": {},
   "outputs": [],
   "source": [
    "# env/platform-agnostic-pns hasn't been publically released, so you will install it from master\n",
    "export PIPELINE_VERSION=1.7.0\n",
    "minikube kubectl -- apply -k \"github.com/kubeflow/pipelines/manifests/kustomize/cluster-scoped-resources?ref=$PIPELINE_VERSION\"\n",
    "minikube kubectl -- wait --for condition=established --timeout=60s crd/applications.app.k8s.io\n",
    "minikube kubectl -- apply -k \"github.com/kubeflow/pipelines/manifests/kustomize/env/platform-agnostic-pns?ref=$PIPELINE_VERSION\""
   ]
  },
  {
   "cell_type": "code",
   "execution_count": null,
   "id": "8933b6d6-35a6-4d43-b541-3fe61141b65f",
   "metadata": {},
   "outputs": [],
   "source": [
    "#minikube kubectl -- api-resources\n",
    "minikube kubectl -- get pods\n",
    "minikube kubectl -- describe"
   ]
  },
  {
   "cell_type": "code",
   "execution_count": null,
   "id": "2a1388c9-409b-41e2-a6e5-251e6d291181",
   "metadata": {},
   "outputs": [],
   "source": []
  },
  {
   "cell_type": "code",
   "execution_count": null,
   "id": "2821f339-9447-4ad6-bcc4-0c8f99dad4c2",
   "metadata": {},
   "outputs": [],
   "source": [
    "# https://kubernetes.io/docs/tasks/configure-pod-container/pull-image-private-registry/\n",
    "docker login\n",
    "cat ~/.docker/config.json\n",
    "sudo minikube kubectl -- create secret generic regcred \\\n",
    "    --from-file=.dockerconfigjson=\"~/.docker/config.json\" \\\n",
    "    --type=kubernetes.io/dockerconfigjson\n",
    "\n",
    "minikube kubectl -- create secret docker-registry regcred \\\n",
    "    --docker-server=<your-registry-server> \\\n",
    "    --docker-username=<your-name> \\\n",
    "    --docker-password=<your-pword> \\\n",
    "    --docker-email=<your-email>\n",
    "        \n",
    "minikube kubectl -- get secret regcred --output=yaml\n",
    "\n",
    "wget -O my-private-reg-pod.yaml https://k8s.io/examples/pods/private-reg-pod.yaml\n",
    "vi my-private-reg-pod.yaml\n",
    "\n",
    "minikube kubectl -- apply -f my-private-reg-pod.yaml\n",
    "minikube kubectl -- get pod private-reg"
   ]
  },
  {
   "cell_type": "code",
   "execution_count": null,
   "id": "535a68fc-59b8-445d-94ad-473ea11dce98",
   "metadata": {},
   "outputs": [],
   "source": []
  },
  {
   "cell_type": "code",
   "execution_count": null,
   "id": "fb3f9fb6-9d88-4c5e-8631-e6f7981f6b4d",
   "metadata": {},
   "outputs": [],
   "source": [
    "export PIPELINE_VERSION=1.7.0\n",
    "minikube kubectl -- apply -k \"github.com/kubeflow/pipelines/manifests/kustomize/cluster-scoped-resources\"\n",
    "minikube kubectl -- wait --for condition=established --timeout=60s crd/applications.app.k8s.io\n",
    "minikube kubectl -- apply -k \"github.com/kubeflow/pipelines/manifests/kustomize/env/platform-agnostic\"\n",
    "\n",
    "kustomization.yaml\n"
   ]
  },
  {
   "cell_type": "code",
   "execution_count": null,
   "id": "8793a954-6e20-4d59-8da3-04987912da64",
   "metadata": {},
   "outputs": [],
   "source": []
  },
  {
   "cell_type": "code",
   "execution_count": null,
   "id": "293ff505-f3a2-46eb-a904-a4e90da9d9e6",
   "metadata": {},
   "outputs": [],
   "source": []
  }
 ],
 "metadata": {
  "kernelspec": {
   "display_name": "Python 3",
   "language": "python",
   "name": "python3"
  },
  "language_info": {
   "codemirror_mode": {
    "name": "ipython",
    "version": 3
   },
   "file_extension": ".py",
   "mimetype": "text/x-python",
   "name": "python",
   "nbconvert_exporter": "python",
   "pygments_lexer": "ipython3",
   "version": "3.8.5"
  }
 },
 "nbformat": 4,
 "nbformat_minor": 5
}
