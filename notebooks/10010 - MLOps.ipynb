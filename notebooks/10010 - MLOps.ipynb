{
 "cells": [
  {
   "cell_type": "markdown",
   "id": "620259b6-3e2c-445e-bf1d-fb04f2ca4a88",
   "metadata": {},
   "source": [
    "```\n",
    "From: https://github.com/ksatola\n",
    "Version: 0.0.1\n",
    "\n",
    "TODOs\n",
    "1. \n",
    "\n",
    "```"
   ]
  },
  {
   "cell_type": "markdown",
   "id": "24bf180a-f123-4f00-84da-606e4ab5ac38",
   "metadata": {},
   "source": [
    "# MLOps"
   ]
  },
  {
   "cell_type": "markdown",
   "id": "fa4b80bc-bf77-40a4-af58-fe0f824202f3",
   "metadata": {},
   "source": [
    "**Pipeline** - a clear (recurring) sequence of well-defined steps\n",
    "\n",
    "Pros:\n",
    "- reusability: reduces the effort of deployment (build once, use many times and everywhere)\n",
    "- standardization (faster onboarding, reduced learning curve) \n",
    "- automation: reduces/eliminates number of human errors, increases speed of execution, allows continuous pipeline execution\n",
    "- reproducibility: consistent results for repetitive tasks\n",
    "- final product more predictable, consistent, and reliable \n",
    "- once built, saves time and money\n",
    "- spend time on more interesting (valuable) tasks\n",
    "\n",
    "Cons:\n",
    "- can be a long and costly process to build\n",
    "- not ideal when you want to produce small quantities or highly customized products\n",
    "\n",
    "**Machine Learning (ML) pipelines** implement and formalize processes to accelerate, reuse, manage, and deploy ML models. The key benefit of ML pipelines lies in the automation of the model life cycle steps. Other benefits include:\n",
    "- Ability to focus on new models, not maintaining existing ones.\n",
    "- Prevention of bugs.\n",
    "- Useful paper trail.\n",
    "- Standardization.\n",
    "- More development time for novel models.\n",
    "- Simpler processes to update existing models.\n",
    "- Less time spent to reproduce models.\n",
    "\n",
    "Not every data science (DS) project needs a pipeline. However, as soon as a model has users, it will require continuous updates and finetuning. Pipelines also become more important as a ML project grows."
   ]
  },
  {
   "cell_type": "code",
   "execution_count": null,
   "id": "86d38c89-ef00-4194-bc41-b6f2961481f5",
   "metadata": {},
   "outputs": [],
   "source": []
  },
  {
   "cell_type": "code",
   "execution_count": null,
   "id": "c5a91618-246d-484c-b8a4-24e90d7b1272",
   "metadata": {},
   "outputs": [],
   "source": []
  },
  {
   "cell_type": "code",
   "execution_count": null,
   "id": "71a72e00-693d-4250-8b31-fa5eb9f11a32",
   "metadata": {},
   "outputs": [],
   "source": []
  },
  {
   "cell_type": "code",
   "execution_count": null,
   "id": "ebb406da-2f5e-4e0e-89e9-97f88107824c",
   "metadata": {},
   "outputs": [],
   "source": [
    "Automation tools:\n",
    "- Jenkins\n",
    "- Travis\n",
    "\n",
    "TensorFlow Extended (TFX)\n",
    "Kubeflow"
   ]
  },
  {
   "cell_type": "code",
   "execution_count": null,
   "id": "d3f61f3d-dc28-421a-a82c-6d7b8171a79c",
   "metadata": {},
   "outputs": [],
   "source": []
  },
  {
   "cell_type": "code",
   "execution_count": null,
   "id": "b35df7d4-d9b7-44d3-86d9-0842005d26c3",
   "metadata": {},
   "outputs": [],
   "source": []
  },
  {
   "cell_type": "code",
   "execution_count": null,
   "id": "db57cf05-e74b-4878-b5a8-59000262fb1e",
   "metadata": {},
   "outputs": [],
   "source": []
  },
  {
   "cell_type": "code",
   "execution_count": null,
   "id": "ab45c744-1880-4bea-9c38-a4011d9ccbea",
   "metadata": {},
   "outputs": [],
   "source": []
  },
  {
   "cell_type": "code",
   "execution_count": null,
   "id": "714cd502-7e62-4bbe-b56f-78d36e157a8b",
   "metadata": {},
   "outputs": [],
   "source": []
  },
  {
   "cell_type": "code",
   "execution_count": null,
   "id": "1075f0f6-1c64-48d7-8a40-0eeecce6ce60",
   "metadata": {},
   "outputs": [],
   "source": []
  },
  {
   "cell_type": "code",
   "execution_count": null,
   "id": "bddc5e34-1f0f-472f-85af-5c0de31d7160",
   "metadata": {},
   "outputs": [],
   "source": []
  },
  {
   "cell_type": "code",
   "execution_count": null,
   "id": "33ec4de3-3faf-486e-b17c-73a3dd4ee5f8",
   "metadata": {},
   "outputs": [],
   "source": []
  },
  {
   "cell_type": "code",
   "execution_count": null,
   "id": "e73ab1af-9c6f-42b5-b7ec-3f2e0fe2aa92",
   "metadata": {},
   "outputs": [],
   "source": []
  },
  {
   "cell_type": "code",
   "execution_count": null,
   "id": "8ef7e404-6e4d-4636-9207-a0daeaebc99c",
   "metadata": {},
   "outputs": [],
   "source": []
  },
  {
   "cell_type": "code",
   "execution_count": null,
   "id": "9b09dbf4-baa0-4bb6-8507-909ac2b11266",
   "metadata": {},
   "outputs": [],
   "source": []
  },
  {
   "cell_type": "code",
   "execution_count": null,
   "id": "a9c694ec-5c1d-4153-926a-2abe5b0d8ee9",
   "metadata": {},
   "outputs": [],
   "source": []
  },
  {
   "cell_type": "code",
   "execution_count": null,
   "id": "e9b21e5b-d5f3-48c5-bf2b-8fa300ebf483",
   "metadata": {},
   "outputs": [],
   "source": []
  },
  {
   "cell_type": "code",
   "execution_count": null,
   "id": "38a5077a-7d7c-4882-a948-8a6bbaadd30c",
   "metadata": {},
   "outputs": [],
   "source": []
  }
 ],
 "metadata": {
  "kernelspec": {
   "display_name": "Python 3",
   "language": "python",
   "name": "python3"
  },
  "language_info": {
   "codemirror_mode": {
    "name": "ipython",
    "version": 3
   },
   "file_extension": ".py",
   "mimetype": "text/x-python",
   "name": "python",
   "nbconvert_exporter": "python",
   "pygments_lexer": "ipython3",
   "version": "3.8.5"
  }
 },
 "nbformat": 4,
 "nbformat_minor": 5
}
