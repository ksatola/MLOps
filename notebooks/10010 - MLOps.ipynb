{
 "cells": [
  {
   "cell_type": "markdown",
   "id": "7a82721a",
   "metadata": {},
   "source": [
    "```\n",
    "From: https://github.com/ksatola\n",
    "Version: 0.0.1\n",
    "\n",
    "TODOs\n",
    "1. \n",
    "\n",
    "```"
   ]
  },
  {
   "cell_type": "markdown",
   "id": "49c6bb93",
   "metadata": {},
   "source": [
    "# MLOps"
   ]
  },
  {
   "cell_type": "markdown",
   "id": "4f319b8a",
   "metadata": {},
   "source": [
    "**Pipeline** - a clear (recurring) sequence of well-defined steps\n",
    "\n",
    "Pros:\n",
    "- reusability: reduces the effort of deployment (build once, use many times and everywhere)\n",
    "- standardization (faster onboarding, reduced learning curve) \n",
    "- automation: reduces/eliminates number of human errors, increases speed of execution, allows continuous pipeline execution\n",
    "- reproducibility: consistent results for repetitive tasks\n",
    "- final product more predictable, consistent, and reliable \n",
    "- once built, saves time and money\n",
    "- spend time on more interesting (valuable) tasks\n",
    "\n",
    "Cons:\n",
    "- can be a long and costly process to build\n",
    "- not ideal when you want to produce small quantities or highly customized products\n",
    "\n",
    "**Machine Learning (ML) pipelines** implement and formalize processes to accelerate, reuse, manage, and deploy ML models. The key benefit of ML pipelines lies in the automation of the model life cycle steps. Other benefits include:\n",
    "- Ability to focus on new models, not maintaining existing ones.\n",
    "- Prevention of bugs.\n",
    "- Useful paper trail.\n",
    "- Standardization.\n",
    "- More development time for novel models.\n",
    "- Simpler processes to update existing models.\n",
    "- Less time spent to reproduce models.\n",
    "\n",
    "Not every data science (DS) project needs a pipeline. However, as soon as a model has users, it will require continuous updates and finetuning. Pipelines also become more important as a ML project grows.\n",
    "\n",
    "A **pipeline orchestrator tool** is vital to abstract the glue code that we would oteherwise need to write to automate a machine learning pipeline."
   ]
  },
  {
   "cell_type": "markdown",
   "id": "6bb4604f",
   "metadata": {},
   "source": [
    "### Automation tools:\n",
    "- Jenkins\n",
    "- Travis\n",
    "\n",
    "### Data versioning tools:\n",
    "- [Data Version Control (DVC)](https://dvc.org)\n",
    "- [Pachyderm](https://www.pachyderm.com)\n",
    "\n",
    "### Pipeline orchestration tools:\n",
    "- [Apache Beam](https://beam.apache.org)\n",
    "- !!! Apache Airflow\n",
    "- !!! Kubeflow Pipelines\n",
    "\n",
    "### ML Pipeline Frameworks\n",
    "- [TensorFlow Extended (TFX)](https://www.tensorflow.org/tfx)\n",
    "- AeroSolve\n",
    "- Railyard\n",
    "- Luigi\n",
    "- Michelangelo\n",
    "- Metaflow\n",
    "\n",
    "### Infrastructure:\n",
    "- !!! Kubernetes and Istio\n",
    "\n",
    "### Model serving:\n",
    "- TensorFlow Serving\n",
    "- !!! [BentoML](https://bentoml.org)\n",
    "- !!! [Seldon Core](https://www.seldon.io/tech/products/core/)\n",
    "- [GraphPipe](https://oracle.github.io/graphpipe/#/)\n",
    "- [Simple TensorFlow Serving](https://stfs.readthedocs.io/en/latest/)\n",
    "- !!! [MLFLow](https://mlflow.org/)\n",
    "- [Ray Serve](https://www.ray.io/)\n",
    "- Cloud providers:\n",
    "    - XXX"
   ]
  },
  {
   "cell_type": "markdown",
   "id": "6d58a353",
   "metadata": {},
   "source": [
    "## Apache Beam\n",
    "[Apache Beam](https://beam.apache.org) - open source tool for defining and executing data-processing jobs. Uses in TFX:\n",
    "- Runs under the hood of many TFX components to carry out processing stepa like data validation or preprocessing.\n",
    "- Can be used as a pipeline orchestrator."
   ]
  },
  {
   "cell_type": "markdown",
   "id": "d6abbab1",
   "metadata": {},
   "source": [
    "## TensorFlow Extended (TFX)\n",
    "[TensorFlow Extended (TFX)](https://www.tensorflow.org/tfx) is the open source version of Google's internal ML pipeline framework. It contains the pipeline components and glue code for orchestration tools like Apache Airflow, Apache Beam and Kubeflow Pipelines. The pipeline components are:\n",
    "- Data ingestion with ExampleGen.\n",
    "- Data validation with StatisticsGen, SchemaGen and ExampleValidator.\n",
    "- Data preprocessing with Transform.\n",
    "- Model training with Trainer.\n",
    "- Checking for previously trained models with ResolverNode.\n",
    "- Model analysis and validation with Evaluator.\n",
    "- Model deployments with Pusher."
   ]
  },
  {
   "cell_type": "markdown",
   "id": "8695572e",
   "metadata": {},
   "source": [
    "```\n",
    "#pip install tfx==0.22.0\n",
    "pip install tfx\n",
    "pip install apache-beam[interactive]\n",
    "\n",
    "# see: 20010 - TFX_interactive_pipeline.ipynb\n",
    "```"
   ]
  },
  {
   "cell_type": "markdown",
   "id": "b463a2b9",
   "metadata": {},
   "source": []
  },
  {
   "cell_type": "code",
   "execution_count": null,
   "id": "eeec6c49",
   "metadata": {},
   "outputs": [],
   "source": []
  },
  {
   "cell_type": "code",
   "execution_count": null,
   "id": "e23e8c67",
   "metadata": {},
   "outputs": [],
   "source": []
  },
  {
   "cell_type": "code",
   "execution_count": null,
   "id": "f44c33fc",
   "metadata": {},
   "outputs": [],
   "source": []
  },
  {
   "cell_type": "code",
   "execution_count": null,
   "id": "0df4a873",
   "metadata": {},
   "outputs": [],
   "source": []
  },
  {
   "cell_type": "code",
   "execution_count": null,
   "id": "f7534b2a",
   "metadata": {},
   "outputs": [],
   "source": []
  },
  {
   "cell_type": "code",
   "execution_count": null,
   "id": "1b392504",
   "metadata": {},
   "outputs": [],
   "source": []
  },
  {
   "cell_type": "code",
   "execution_count": null,
   "id": "1cec5ef8",
   "metadata": {},
   "outputs": [],
   "source": []
  },
  {
   "cell_type": "code",
   "execution_count": null,
   "id": "8e45d4b1",
   "metadata": {},
   "outputs": [],
   "source": []
  },
  {
   "cell_type": "code",
   "execution_count": null,
   "id": "e4c72b9f",
   "metadata": {},
   "outputs": [],
   "source": []
  },
  {
   "cell_type": "code",
   "execution_count": null,
   "id": "4fea4592",
   "metadata": {},
   "outputs": [],
   "source": []
  },
  {
   "cell_type": "code",
   "execution_count": null,
   "id": "16db2568",
   "metadata": {},
   "outputs": [],
   "source": []
  },
  {
   "cell_type": "code",
   "execution_count": null,
   "id": "56be3b43",
   "metadata": {},
   "outputs": [],
   "source": []
  },
  {
   "cell_type": "code",
   "execution_count": null,
   "id": "13952c6e",
   "metadata": {},
   "outputs": [],
   "source": []
  },
  {
   "cell_type": "code",
   "execution_count": null,
   "id": "bf98603d",
   "metadata": {},
   "outputs": [],
   "source": []
  }
 ],
 "metadata": {
  "kernelspec": {
   "display_name": "Python 3 (ipykernel)",
   "language": "python",
   "name": "python3"
  },
  "language_info": {
   "codemirror_mode": {
    "name": "ipython",
    "version": 3
   },
   "file_extension": ".py",
   "mimetype": "text/x-python",
   "name": "python",
   "nbconvert_exporter": "python",
   "pygments_lexer": "ipython3",
   "version": "3.9.5"
  }
 },
 "nbformat": 4,
 "nbformat_minor": 5
}
