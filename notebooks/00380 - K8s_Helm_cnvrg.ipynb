{
 "cells": [
  {
   "cell_type": "markdown",
   "id": "73bc6496-f7df-4628-8ae8-c306904ebb62",
   "metadata": {},
   "source": [
    "# Installation Notes for K8s and cnvrg Core Locally on M1 with Helm"
   ]
  },
  {
   "cell_type": "markdown",
   "id": "6663458c-955f-4bc5-966a-911ce9248c40",
   "metadata": {},
   "source": [
    "## Prerequisites\n",
    "```\n",
    "# Download and install Docker Desktop and enable K8s cluster in it\n",
    "# or install a Minikube Cluster\n",
    "# https://app.cnvrg.io/docs/guides/minikube.html#prerequisites-prepare-your-local-environment\n",
    "```"
   ]
  },
  {
   "cell_type": "markdown",
   "id": "f3350807-797f-42a2-961a-c3845bf37e0f",
   "metadata": {},
   "source": [
    "## Install in K8s locally\n",
    "https://app.cnvrg.io/docs/guides/operator.html\n",
    "https://helm.sh/docs/intro/install/\n",
    "https://app.cnvrg.io/docs/guides/helm-light-install.html\n",
    "```\n",
    "# Check if we can connect to a k8s cluster\n",
    "$ kubectl get nodes\n",
    "\n",
    "# Install and initialize Helm\n",
    "$ brew install helm\n",
    "\n",
    "$ helm repo add cnvrg https://charts.cnvrg.io\n",
    "$ helm repo update\n",
    "\n",
    "# Get K8s cluster IP\n",
    "$ kubectl describe node docker-desktop\n",
    "# 192.168.65.4\n",
    "\n",
    "# Run the Helm Chart and deploy cnvrg\n",
    "$ helm install cnvrg cnvrg/cnvrg -n cnvrg \\\n",
    "    --create-namespace --timeout 1500s --wait \\\n",
    "    --set clusterDomain=app.192.168.65.4.nip.io\n",
    "\n",
    "# In another tab check the status\n",
    "$ kubectl -n cnvrg get pods\n",
    "# Or\n",
    "$ brew install watch\n",
    "$ watch -c kubectl -n cnvrg get po\n",
    "\n",
    "# Get IP adress of the cnvrg cluster\n",
    "kubectl -n cnvrg get svc | grep ingress | awk \"{print $4}\"\n",
    "\n",
    "\n",
    "# Monitoring your cluster using Kibana and Grafana\n",
    "# To access Kibana, go to: kibana.<your_domain>.com\n",
    "# https://www.elastic.co/guide/en/kibana/7.6/index.html\n",
    "# https://grafana.com/docs/grafana/latest/\n",
    "# To access Grafana, go to: grafana.<your_domain>.com\n",
    "\n",
    "\n",
    "# Upgrade a cnvrg Installation\n",
    "helm upgrade cnvrg cnvrg/cnvrg --reuse-values \\\n",
    "  --set cnvrgApp.image=<image>\n",
    "\n",
    "\n",
    "# Delete cnvrg CORE\n",
    "$ helm uninstall cnvrg -n cnvrg\n",
    "```"
   ]
  },
  {
   "cell_type": "code",
   "execution_count": null,
   "id": "018a591d-8a36-43a5-875a-edfb3ec9f4e6",
   "metadata": {},
   "outputs": [],
   "source": []
  }
 ],
 "metadata": {
  "kernelspec": {
   "display_name": "Python 3 (ipykernel)",
   "language": "python",
   "name": "python3"
  },
  "language_info": {
   "codemirror_mode": {
    "name": "ipython",
    "version": 3
   },
   "file_extension": ".py",
   "mimetype": "text/x-python",
   "name": "python",
   "nbconvert_exporter": "python",
   "pygments_lexer": "ipython3",
   "version": "3.9.7"
  }
 },
 "nbformat": 4,
 "nbformat_minor": 5
}
