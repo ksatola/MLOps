{
 "cells": [
  {
   "cell_type": "markdown",
   "id": "73bc6496-f7df-4628-8ae8-c306904ebb62",
   "metadata": {},
   "source": [
    "# Installation Notes for Apple silicon (M1) macOS"
   ]
  },
  {
   "cell_type": "markdown",
   "id": "229c68db-7a3b-4b4b-9ebe-fb1164d492c2",
   "metadata": {},
   "source": [
    "## Show Hidden Files in Finder\n",
    "Show hidden files in Finder: Command + Shift + ."
   ]
  },
  {
   "cell_type": "markdown",
   "id": "9e7ac79b-bccb-4758-8a4e-0546ceb66c3f",
   "metadata": {},
   "source": [
    "## ZSH Shell\n",
    "Ensure Zsh is the current shell (important for M1)\n",
    "```\n",
    "$ touch ~/.zshrc\n",
    "$ chsh -s /bin/zsh\n",
    "```"
   ]
  },
  {
   "cell_type": "markdown",
   "id": "a01ba6dc-ea34-41c5-99d2-c9e176d537c4",
   "metadata": {},
   "source": [
    "## Install iTerm2\n",
    "https://iterm2.com/"
   ]
  },
  {
   "cell_type": "markdown",
   "id": "473c1105-ff79-4c24-a6e5-d411a5dfefad",
   "metadata": {},
   "source": [
    "## Brew - a package manager for macOS\n",
    "https://brew.sh/\n",
    "```\n",
    "$ /bin/bash -c \"$(curl -fsSL https://raw.githubusercontent.com/Homebrew/install/HEAD/install.sh)\"\n",
    "\n",
    "$ echo export PATH=/opt/homebrew/bin:$PATH >> ~/.zshrc\n",
    "$ echo 'eval \"$(/opt/homebrew/bin/brew shellenv)\"' >> ~/.zshrc\n",
    "$ eval \"$(/opt/homebrew/bin/brew shellenv)\"\n",
    "\n",
    "$ brew update\n",
    "```"
   ]
  },
  {
   "cell_type": "markdown",
   "id": "194934db-aa30-4bdc-aad9-2e6c8c3cd911",
   "metadata": {},
   "source": [
    "## oh-my-zsh\n",
    "https://github.com/ohmyzsh/ohmyzsh\n",
    "\n",
    "GitHub - powerline/fonts: Patched fonts for Powerline users: https://github.com/powerline/fonts\n",
    "See Powerline style for terminal OSX on how to configure fonts in iTerm or VS Code: https://gist.github.com/DukeNgn/9312a65e1535b3b1bffd9fed2c892079\n",
    "\n",
    "```\n",
    "# Get and install\n",
    "$ sh -c \"$(curl -fsSL https://raw.githubusercontent.com/ohmyzsh/ohmyzsh/master/tools/install.sh)\"\n",
    "\n",
    "# Install PowerFonts\n",
    "$ git clone https://github.com/powerline/fonts.git\n",
    "$ cd fonts\n",
    "$ ./install.sh\n",
    "# clean-up a bit\n",
    "#$ cd ..\n",
    "#$ rm -rf fonts\n",
    "\n",
    "# Refresh the current terminal session (or restart iTerm)\n",
    "$ exec /bin/bash -l\n",
    "```"
   ]
  },
  {
   "cell_type": "markdown",
   "id": "0e72c72c-0337-4a57-a035-cc9a71db576a",
   "metadata": {},
   "source": [
    "## .zshrc (so far)\n",
    "```\n",
    "test -e \"${HOME}/.iterm2_shell_integration.zsh\" && source \"${HOME}/.iterm2_shell_integration.zsh\"\n",
    "eval \"$(/opt/homebrew/bin/brew shellenv)\"\n",
    "\n",
    "export PATH=/opt/homebrew/bin:/opt/homebrew/sbin:/usr/local/bin:/usr/bin:/bin:/usr/sbin:/sbin:/opt/homebrew/bin\n",
    "\n",
    "#export PATH=\"/Users/ksatola/.pyenv/shims:${PATH}\"\n",
    "eval \"$(pyenv init --path)\"\n",
    "eval \"$(pyenv init -)\"\n",
    "eval \"$(pyenv virtualenv-init -)\"\n",
    "\n",
    "# other configs by oh-my-zsh\n",
    "# ...\n",
    "ZSH_THEME=\"agnoster\"\n",
    "```"
   ]
  },
  {
   "cell_type": "code",
   "execution_count": null,
   "id": "018a591d-8a36-43a5-875a-edfb3ec9f4e6",
   "metadata": {},
   "outputs": [],
   "source": []
  }
 ],
 "metadata": {
  "kernelspec": {
   "display_name": "Python 3",
   "language": "python",
   "name": "python3"
  },
  "language_info": {
   "codemirror_mode": {
    "name": "ipython",
    "version": 3
   },
   "file_extension": ".py",
   "mimetype": "text/x-python",
   "name": "python",
   "nbconvert_exporter": "python",
   "pygments_lexer": "ipython3",
   "version": "3.8.5"
  }
 },
 "nbformat": 4,
 "nbformat_minor": 5
}
