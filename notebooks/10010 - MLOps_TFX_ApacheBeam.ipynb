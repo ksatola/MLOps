{
 "cells": [
  {
   "cell_type": "markdown",
   "metadata": {},
   "source": [
    "```\n",
    "From: https://github.com/ksatola\n",
    "Version: 0.0.1\n",
    "\n",
    "TODOs\n",
    "1. \n",
    "\n",
    "```"
   ]
  },
  {
   "cell_type": "markdown",
   "metadata": {},
   "source": [
    "# MLOps"
   ]
  },
  {
   "cell_type": "markdown",
   "metadata": {},
   "source": [
    "**Pipeline** - a clear (recurring) sequence of well-defined steps\n",
    "\n",
    "Pros:\n",
    "- reusability: reduces the effort of deployment (build once, use many times and everywhere)\n",
    "- standardization (faster onboarding, reduced learning curve) \n",
    "- automation: reduces/eliminates number of human errors, increases speed of execution, allows continuous pipeline execution\n",
    "- reproducibility: consistent results for repetitive tasks\n",
    "- final product more predictable, consistent, and reliable \n",
    "- once built, saves time and money\n",
    "- spend time on more interesting (valuable) tasks\n",
    "\n",
    "Cons:\n",
    "- can be a long and costly process to build\n",
    "- not ideal when you want to produce small quantities or highly customized products\n",
    "\n",
    "**Machine Learning (ML) pipelines** implement and formalize processes to accelerate, reuse, manage, and deploy ML models. The key benefit of ML pipelines lies in the automation of the model life cycle steps. Other benefits include:\n",
    "- Ability to focus on new models, not maintaining existing ones.\n",
    "- Prevention of bugs.\n",
    "- Useful paper trail.\n",
    "- Standardization.\n",
    "- More development time for novel models.\n",
    "- Simpler processes to update existing models.\n",
    "- Less time spent to reproduce models.\n",
    "\n",
    "Not every data science (DS) project needs a pipeline. However, as soon as a model has users, it will require continuous updates and finetuning. Pipelines also become more important as a ML project grows."
   ]
  },
  {
   "cell_type": "markdown",
   "metadata": {},
   "source": [
    "### Automation tools:\n",
    "- Jenkins\n",
    "- Travis\n",
    "\n",
    "### Data versioning tools:\n",
    "- [Data Version Control (DVC)](https://dvc.org)\n",
    "- [Pachyderm](https://www.pachyderm.com)\n",
    "\n",
    "### Pipeline orchestration tools:\n",
    "- [Apache Beam](https://beam.apache.org)\n",
    "- Apache Airflow\n",
    "- Kubeflow Pipelines\n",
    "\n",
    "### ML Pipeline Frameworks\n",
    "- [TensorFlow Extended (TFX)](https://www.tensorflow.org/tfx)\n",
    "- AeroSolve\n",
    "- Railyard\n",
    "- Luigi\n",
    "- Michelangelo\n",
    "- Metaflow"
   ]
  },
  {
   "cell_type": "markdown",
   "metadata": {},
   "source": [
    "## Apache Beam\n",
    "[Apache Beam](https://beam.apache.org) - open source tool for defining and executing data-processing jobs. Uses in TFX:\n",
    "- Runs under the hood of many TFX components to carry out processing stepa like data validation or preprocessing.\n",
    "- Can be used as a pipeline orchestrator."
   ]
  },
  {
   "cell_type": "markdown",
   "metadata": {},
   "source": [
    "## TensorFlow Extended (TFX)\n",
    "[TensorFlow Extended (TFX)](https://www.tensorflow.org/tfx) is the open source version of Google's internal ML pipeline framework. It contains the pipeline components and glue code for orchestration tools like Apache Airflow, Apache Beam and Kubeflow Pipelines. The pipeline components are:\n",
    "- Data ingestion with ExampleGen.\n",
    "- Data validation with StatisticsGen, SchemaGen and ExampleValidator.\n",
    "- Data preprocessing with Transform.\n",
    "- Model training with Trainer.\n",
    "- Checking for previously trained models with ResolverNode.\n",
    "- Model analysis and validation with Evaluator.\n",
    "- Model deployments with Pusher."
   ]
  },
  {
   "cell_type": "markdown",
   "metadata": {},
   "source": [
    "```\n",
    "#pip install tfx==0.22.0\n",
    "pip install tfx\n",
    "pip install apache-beam[interactive]\n",
    "\n",
    "# see: 20010 - TFX_interactive_pipeline.ipynb\n",
    "```"
   ]
  },
  {
   "cell_type": "markdown",
   "metadata": {},
   "source": []
  },
  {
   "cell_type": "code",
   "execution_count": null,
   "metadata": {},
   "outputs": [],
   "source": []
  },
  {
   "cell_type": "code",
   "execution_count": null,
   "metadata": {},
   "outputs": [],
   "source": []
  },
  {
   "cell_type": "code",
   "execution_count": null,
   "metadata": {},
   "outputs": [],
   "source": []
  },
  {
   "cell_type": "code",
   "execution_count": null,
   "metadata": {},
   "outputs": [],
   "source": []
  },
  {
   "cell_type": "code",
   "execution_count": null,
   "metadata": {},
   "outputs": [],
   "source": []
  },
  {
   "cell_type": "code",
   "execution_count": null,
   "metadata": {},
   "outputs": [],
   "source": []
  },
  {
   "cell_type": "code",
   "execution_count": null,
   "metadata": {},
   "outputs": [],
   "source": []
  },
  {
   "cell_type": "code",
   "execution_count": null,
   "metadata": {},
   "outputs": [],
   "source": []
  },
  {
   "cell_type": "code",
   "execution_count": null,
   "metadata": {},
   "outputs": [],
   "source": []
  },
  {
   "cell_type": "code",
   "execution_count": null,
   "metadata": {},
   "outputs": [],
   "source": []
  },
  {
   "cell_type": "code",
   "execution_count": null,
   "metadata": {},
   "outputs": [],
   "source": []
  },
  {
   "cell_type": "code",
   "execution_count": null,
   "metadata": {},
   "outputs": [],
   "source": []
  },
  {
   "cell_type": "code",
   "execution_count": null,
   "metadata": {},
   "outputs": [],
   "source": []
  },
  {
   "cell_type": "code",
   "execution_count": null,
   "metadata": {},
   "outputs": [],
   "source": []
  }
 ],
 "metadata": {
  "kernelspec": {
   "display_name": "Python 3",
   "language": "python",
   "name": "python3"
  },
  "language_info": {
   "codemirror_mode": {
    "name": "ipython",
    "version": 3
   },
   "file_extension": ".py",
   "mimetype": "text/x-python",
   "name": "python",
   "nbconvert_exporter": "python",
   "pygments_lexer": "ipython3",
   "version": "3.8.5"
  }
 },
 "nbformat": 4,
 "nbformat_minor": 5
}
