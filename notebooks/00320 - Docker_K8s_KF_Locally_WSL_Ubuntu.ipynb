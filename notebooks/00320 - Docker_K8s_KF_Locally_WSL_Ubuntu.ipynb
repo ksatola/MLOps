{
 "cells": [
  {
   "cell_type": "markdown",
   "metadata": {},
   "source": [
    "# Installation Notes for K8s and KF Locally on WSL Ubuntu"
   ]
  },
  {
   "cell_type": "markdown",
   "metadata": {},
   "source": [
    "## Docker\n",
    "https://docs.docker.com/engine/install/ubuntu/\n",
    "```\n",
    "$ sudo apt-get remove docker docker-engine docker.io containerd runc\n",
    "\n",
    "$ sudo apt-get update\n",
    "\n",
    "$ sudo apt-get install apt-transport-https ca-certificates curl gnupg lsb-release\n",
    "\n",
    "$ curl -fsSL https://download.docker.com/linux/ubuntu/gpg | sudo gpg --dearmor -o /usr/share/keyrings/docker-archive-keyring.gpg\n",
    "\n",
    "$ echo \"deb [arch=amd64 signed-by=/usr/share/keyrings/docker-archive-keyring.gpg] https://download.docker.com/linux/ubuntu $(lsb_release -cs) stable\" | sudo tee /etc/apt/sources.list.d/docker.list > /dev/null\n",
    "\n",
    "$ sudo apt-get update\n",
    "$ sudo apt-get install docker-ce docker-ce-cli containerd.io\n",
    "\n",
    "$ sudo dockerd\n",
    "$ docker run hello-world\n",
    "```"
   ]
  },
  {
   "cell_type": "markdown",
   "metadata": {},
   "source": [
    "## Minikube and Kubeflow\n",
    "https://minikube.sigs.k8s.io/docs/start/\n",
    "```\n",
    "$ curl -LO https://storage.googleapis.com/minikube/releases/latest/minikube-linux-amd64\n",
    "$ sudo install minikube-linux-amd64 /usr/local/bin/minikube\n",
    "\n",
    "$ minikube start --cpus 12 --memory 16g --disk-size 60g\n",
    "$ minikube kubectl -- get po -A\n",
    "$ minikube dashboard\n",
    "\n",
    "$ curl -LO \"https://dl.k8s.io/release/$(curl -L -s https://dl.k8s.io/release/stable.txt)/bin/linux/amd64/kubectl\"\n",
    "$ sudo install -o root -g root -m 0755 kubectl /usr/local/bin/kubectl\n",
    "\n",
    "$ kubectl create deployment hello-minikube --image=k8s.gcr.io/echoserver:1.4\n",
    "$ kubectl expose deployment hello-minikube --type=NodePort --port=8080\n",
    "$ kubectl get services hello-minikube\n",
    "$ kubectl port-forward service/hello-minikube 7080:8080\n",
    "\n",
    "$ tar -xvf kfctl_v1.2.0-0-gbc038f9_linux.tar.gz\n",
    "$ export CONFIG_URI=\"https://raw.githubusercontent.com/kubeflow/manifests/v1.2-branch/kfdef/kfctl_k8s_istio.v1.2.0.yaml\"\n",
    "$ mkdir -p 'kf'\n",
    "$ cd kf\n",
    "$ ../kfctl apply -V -f ${CONFIG_URI}\n",
    "\n",
    "after ca. 20 minutes\n",
    "$ export NAMESPACE=istio-system\n",
    "$ kubectl port-forward -n ${NAMESPACE} svc/istio-ingressgateway 8585:80\n",
    "# Open: http://localhost:8585/\n",
    "\n",
    "$ minikube pause\n",
    "$ minikube unpause\n",
    "$ minikube stop\n",
    "\n",
    "$ minikube delete --all\n",
    "```"
   ]
  },
  {
   "cell_type": "markdown",
   "metadata": {},
   "source": [
    "## MinIO CLI Install\n",
    "```\n",
    "# libfile-pushd-perl package\n",
    "$ sudo apt-get install -y libfile-pushd-perl\n",
    "\n",
    "$ mkdir -p ~/bin\n",
    "\n",
    "# on Ubuntu\n",
    "$ pushd ~/bin\n",
    "$ wget https://dl.min.io/client/mc/release/linux-amd64/mc\n",
    "$ mv mc mc_minio # if there is a conflict with Midnight Commander\n",
    "$ chmod a+x mc_minio\n",
    "\n",
    "$ ./mc_minio config host add minio http://localhost:8587 minio minio123\n",
    "\n",
    "# run MinIO port-forwarding, see Run MinIO Dashboard below\n",
    "# create a bucket\n",
    "$ ./mc_minio mb minio/kf-book-examples\n",
    "```"
   ]
  },
  {
   "cell_type": "markdown",
   "metadata": {},
   "source": [
    "## Run Kubeflow"
   ]
  },
  {
   "cell_type": "markdown",
   "metadata": {},
   "source": [
    "```\n",
    "$ sudo dockerd\n",
    "\n",
    "$ minikube start --cpus 12 --memory 16g --disk-size 60g\n",
    "\n",
    "$ minikube dashboard\n",
    "\n",
    "$ export CONFIG_URI=\"https://raw.githubusercontent.com/kubeflow/manifests/v1.2-branch/kfdef/kfctl_k8s_istio.v1.2.0.yaml\"; cd ~/git/MLOps/kf; ~/git/MLOps/kfctl apply -V -f ${CONFIG_URI}\n",
    "\n",
    "$ export NAMESPACE=istio-system; kubectl port-forward -n ${NAMESPACE} svc/istio-ingressgateway 8586:80\n",
    "\n",
    "# Open: http://localhost:8586/\n",
    "\n",
    "$ minikube stop\n",
    "```"
   ]
  },
  {
   "cell_type": "markdown",
   "metadata": {},
   "source": [
    "## Run MinIO Dashboard"
   ]
  },
  {
   "cell_type": "markdown",
   "metadata": {},
   "source": [
    "```\n",
    "# minio/minio123\n",
    "$ kubectl port-forward -n kubeflow svc/minio-service 8587:9000 &\n",
    "\n",
    "# Open: http://localhost:8587/\n",
    "```"
   ]
  },
  {
   "cell_type": "code",
   "execution_count": null,
   "metadata": {},
   "outputs": [],
   "source": []
  }
 ],
 "metadata": {
  "kernelspec": {
   "display_name": "Python 3",
   "language": "python",
   "name": "python3"
  },
  "language_info": {
   "codemirror_mode": {
    "name": "ipython",
    "version": 3
   },
   "file_extension": ".py",
   "mimetype": "text/x-python",
   "name": "python",
   "nbconvert_exporter": "python",
   "pygments_lexer": "ipython3",
   "version": "3.8.10"
  }
 },
 "nbformat": 4,
 "nbformat_minor": 5
}
