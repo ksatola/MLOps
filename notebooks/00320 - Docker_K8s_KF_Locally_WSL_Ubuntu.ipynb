{
 "cells": [
  {
   "cell_type": "markdown",
   "id": "73bc6496-f7df-4628-8ae8-c306904ebb62",
   "metadata": {},
   "source": [
    "# Installation Notes for K8s and KF Locally on WSL Ubuntu"
   ]
  },
  {
   "cell_type": "markdown",
   "id": "6663458c-955f-4bc5-966a-911ce9248c40",
   "metadata": {},
   "source": [
    "## Docker\n",
    "https://docs.docker.com/engine/install/ubuntu/\n",
    "```\n",
    "$ sudo apt-get remove docker docker-engine docker.io containerd runc\n",
    "\n",
    "$ sudo apt-get update\n",
    "\n",
    "$ sudo apt-get install apt-transport-https ca-certificates curl gnupg lsb-release\n",
    "\n",
    "$ curl -fsSL https://download.docker.com/linux/ubuntu/gpg | sudo gpg --dearmor -o /usr/share/keyrings/docker-archive-keyring.gpg\n",
    "\n",
    "$ echo \"deb [arch=amd64 signed-by=/usr/share/keyrings/docker-archive-keyring.gpg] https://download.docker.com/linux/ubuntu $(lsb_release -cs) stable\" | sudo tee /etc/apt/sources.list.d/docker.list > /dev/null\n",
    "\n",
    "$ sudo apt-get update\n",
    "$ sudo apt-get install docker-ce docker-ce-cli containerd.io\n",
    "\n",
    "$ sudo dockerd\n",
    "$ docker run hello-world\n",
    "```"
   ]
  },
  {
   "cell_type": "markdown",
   "id": "f3350807-797f-42a2-961a-c3845bf37e0f",
   "metadata": {},
   "source": [
    "## Minikube and Kubeflow\n",
    "https://minikube.sigs.k8s.io/docs/start/\n",
    "```\n",
    "$ curl -LO https://storage.googleapis.com/minikube/releases/latest/minikube-linux-amd64\n",
    "$ sudo install minikube-linux-amd64 /usr/local/bin/minikube\n",
    "\n",
    "$ minikube start --cpus 12 --memory 16g --disk-size 60g\n",
    "$ minikube kubectl -- get po -A\n",
    "$ minikube dashboard\n",
    "\n",
    "$ curl -LO \"https://dl.k8s.io/release/$(curl -L -s https://dl.k8s.io/release/stable.txt)/bin/linux/amd64/kubectl\"\n",
    "$ sudo install -o root -g root -m 0755 kubectl /usr/local/bin/kubectl\n",
    "\n",
    "$ kubectl create deployment hello-minikube --image=k8s.gcr.io/echoserver:1.4\n",
    "$ kubectl expose deployment hello-minikube --type=NodePort --port=8080\n",
    "$ kubectl get services hello-minikube\n",
    "$ kubectl port-forward service/hello-minikube 7080:8080\n",
    "\n",
    "$ tar -xvf kfctl_v1.2.0-0-gbc038f9_linux.tar.gz\n",
    "$ export CONFIG_URI=\"https://raw.githubusercontent.com/kubeflow/manifests/v1.2-branch/kfdef/kfctl_k8s_istio.v1.2.0.yaml\"\n",
    "$ mkdir -p 'kf'\n",
    "$ cd kf\n",
    "$ ../kfctl apply -V -f ${CONFIG_URI}\n",
    "\n",
    "after ca. 20 minutes\n",
    "$ export NAMESPACE=istio-system\n",
    "$ kubectl port-forward -n ${NAMESPACE} svc/istio-ingressgateway 8585:80\n",
    "# Open: http://localhost:8585/\n",
    "\n",
    "$ minikube pause\n",
    "$ minikube unpause\n",
    "$ minikube stop\n",
    "\n",
    "$ minikube delete --all\n",
    "```"
   ]
  },
  {
   "cell_type": "markdown",
   "id": "8dbc14a0-f4b6-4652-91d6-d0b25cbfd97f",
   "metadata": {},
   "source": [
    "## MinIO CLI Install\n",
    "```\n",
    "# libfile-pushd-perl package\n",
    "$ sudo apt-get install -y libfile-pushd-perl\n",
    "\n",
    "$ mkdir -p ~/bin\n",
    "\n",
    "# on Ubuntu\n",
    "$ pushd ~/bin\n",
    "$ wget https://dl.min.io/client/mc/release/linux-amd64/mc\n",
    "$ mv mc mc_minio # if there is a conflict with Midnight Commander\n",
    "$ chmod a+x mc_minio\n",
    "\n",
    "$ ./mc_minio config host add minio http://localhost:8587 minio minio123\n",
    "\n",
    "# run MinIO port-forwarding, see Run MinIO Dashboard below\n",
    "# create a bucket\n",
    "$ ./mc_minio mb minio/kf-book-examples\n",
    "```"
   ]
  },
  {
   "cell_type": "markdown",
   "id": "33e0e3d9-2b83-41ad-b76c-f6936eed6c72",
   "metadata": {},
   "source": [
    "## Run Kubeflow"
   ]
  },
  {
   "cell_type": "markdown",
   "id": "7f9197e1-b6cc-4751-b600-c68540e95e50",
   "metadata": {},
   "source": [
    "```\n",
    "$ sudo dockerd\n",
    "\n",
    "$ minikube start --cpus 12 --memory 16g --disk-size 60g\n",
    "\n",
    "$ minikube dashboard\n",
    "\n",
    "$ export CONFIG_URI=\"https://raw.githubusercontent.com/kubeflow/manifests/v1.2-branch/kfdef/kfctl_k8s_istio.v1.2.0.yaml\"; cd ~/git/MLOps/kf; ~/git/MLOps/kfctl apply -V -f ${CONFIG_URI}\n",
    "\n",
    "$ export NAMESPACE=istio-system; kubectl port-forward -n ${NAMESPACE} svc/istio-ingressgateway 8586:80\n",
    "\n",
    "# Open: http://localhost:8586/\n",
    "\n",
    "$ minikube stop\n",
    "```"
   ]
  },
  {
   "cell_type": "markdown",
   "id": "d550c47c-a3a4-4fbf-ab7f-3768e760f25b",
   "metadata": {},
   "source": [
    "## Run MinIO Dashboard"
   ]
  },
  {
   "cell_type": "markdown",
   "id": "fa5a5775-0dab-44c2-8d16-803c54898ade",
   "metadata": {},
   "source": [
    "```\n",
    "# minio/minio123\n",
    "$ kubectl port-forward -n kubeflow svc/minio-service 8587:9000 &\n",
    "\n",
    "# Open: http://localhost:8587/\n",
    "```"
   ]
  },
  {
   "cell_type": "code",
   "execution_count": null,
   "id": "0d22d7a0-e885-4a07-9da0-5444651dc532",
   "metadata": {},
   "outputs": [],
   "source": []
  }
 ],
 "metadata": {
  "kernelspec": {
   "display_name": "Python 3",
   "language": "python",
   "name": "python3"
  },
  "language_info": {
   "codemirror_mode": {
    "name": "ipython",
    "version": 3
   },
   "file_extension": ".py",
   "mimetype": "text/x-python",
   "name": "python",
   "nbconvert_exporter": "python",
   "pygments_lexer": "ipython3",
   "version": "3.8.5"
  }
 },
 "nbformat": 4,
 "nbformat_minor": 5
}
