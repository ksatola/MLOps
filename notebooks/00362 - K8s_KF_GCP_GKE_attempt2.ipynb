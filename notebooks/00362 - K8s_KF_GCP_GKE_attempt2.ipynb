{
 "cells": [
  {
   "cell_type": "markdown",
   "id": "73bc6496-f7df-4628-8ae8-c306904ebb62",
   "metadata": {},
   "source": [
    "# Installation Notes for K8s and KF on GCP GKE (attempt 2)"
   ]
  },
  {
   "cell_type": "markdown",
   "id": "6a8098da-1b0f-43a2-8e56-e2172aa27ecb",
   "metadata": {},
   "source": [
    "This is WORK IN PROGRESS. Not finished."
   ]
  },
  {
   "cell_type": "markdown",
   "id": "6663458c-955f-4bc5-966a-911ce9248c40",
   "metadata": {},
   "source": [
    "## Prepare GCP access and SDK\n",
    "```\n",
    "# In GCP Console (t1)\n",
    "gcloud auth login\n",
    "\n",
    "# Install Google Cloud SDK (locally - t2)\n",
    "# https://cloud.google.com/sdk/docs/downloads-interactive#linux-mac\n",
    "curl https://sdk.cloud.google.com | bash\n",
    "exec -l $SHELL\n",
    "\n",
    "export PATH=$PATH:/Users/ksatola/google-cloud-sdk/bin\n",
    "\n",
    "gcloud auth login\n",
    "```"
   ]
  },
  {
   "cell_type": "markdown",
   "id": "3c12dc64-2d71-41ea-a4ed-f3794a2e2341",
   "metadata": {},
   "source": [
    "## Install Kubeflow on GCP\n",
    "```\n",
    "# 1. Create a GCP Project\n",
    "# 2. Configure the project (billing, APIs, etc.)\n",
    "# 3. Check resource quotas\n",
    "# 4. Set up OAuth credentials\n",
    "# 5. Deploy Kubeflow\n",
    "\n",
    "# 4\n",
    "# https://console.cloud.google.com/apis/credentials/consent?authuser=1&folder=&organizationId=&project=dev-datascience-305115\n",
    "# <GCP Project ID>\n",
    "# Add <GCP Project ID>.cloud.goog for authorized domains\n",
    "\n",
    "# Create service account\n",
    "# https://console.cloud.google.com/iam-admin/serviceaccounts?authuser=1&project=dev-datascience-305115\n",
    "kf-test-user\n",
    "\n",
    "# https://console.cloud.google.com/apis/credentials?authuser=1&folder=&organizationId=&project=<GCP Project ID>\n",
    "# Create credentials with OAuth client ID, Web application, and Name (any handy name for the OAth client ID)\n",
    "# Save to get client id used in the next step\n",
    "# Add to Authorized redirect URIs\n",
    "https://iap.googleapis.com/v1/oauth/clientIds/<OAuth client ID>:handleRedirect\n",
    "\n",
    "client ID: 550608093847-3t6amsv1erckqadr2ethkhv0jo9874tl.apps.googleusercontent.com\n",
    "client secret: 09XMyiUhgF6nhybcm0lQmtLX\n",
    "\n",
    "# 5\n",
    "# Create user credentials for SDK use\n",
    "gcloud auth application-default login\n",
    "\n",
    "# Create required environment variables\n",
    "export CLIENT_ID=550608093847-3t6amsv1erckqadr2ethkhv0jo9874tl.apps.googleusercontent.com\n",
    "export CLIENT_SECRET=09XMyiUhgF6nhybcm0lQmtLX\n",
    "\n",
    "# Setup kfctl\n",
    "# Download kfctl v1.0.2: https://github.com/kubeflow/kfctl/releases/tag/v1.0.2 to home dir\n",
    "tar -xvf kfctl_v1.0.2-0-ga476281_linux.tar.gz\n",
    "export PATH=$PATH:~/kfctl\n",
    "\n",
    "# Setup environment variables for kfctl\n",
    "export ZONE=europe-west1-b\n",
    "export PROJECT=dev-datascience-305115\n",
    "#<GCP Project ID>\n",
    "gcloud config set project ${PROJECT}\n",
    "gcloud config set compute/zone ${ZONE}\n",
    "\n",
    "# Kubeflow deployment YAML configuration\n",
    "export CONFIG_URI=\"https://raw.githubusercontent.com/kubeflow/manifests/v1.0-branch/kfdef/kfctl_gcp_iap.v1.0.2.yaml\"\n",
    "\n",
    "# Setup Kubeflow deployment variables\n",
    "export KF_NAME=kf-test\n",
    "export BASE_DIR=~\n",
    "export KF_DIR=${BASE_DIR}/${KF_NAME}\n",
    "echo ${KF_DIR}\n",
    "\n",
    "# Deploy Kubeflow with kfctl\n",
    "mkdir -p ${KF_DIR}\n",
    "cd ${KF_DIR}\n",
    "kfctl apply -V -f ${CONFIG_URI}\n",
    "\n",
    "# There are errors in GCP regarding Deploying Manager\n",
    "```"
   ]
  },
  {
   "cell_type": "code",
   "execution_count": null,
   "id": "0d22d7a0-e885-4a07-9da0-5444651dc532",
   "metadata": {},
   "outputs": [],
   "source": []
  }
 ],
 "metadata": {
  "kernelspec": {
   "display_name": "Python 3 (ipykernel)",
   "language": "python",
   "name": "python3"
  },
  "language_info": {
   "codemirror_mode": {
    "name": "ipython",
    "version": 3
   },
   "file_extension": ".py",
   "mimetype": "text/x-python",
   "name": "python",
   "nbconvert_exporter": "python",
   "pygments_lexer": "ipython3",
   "version": "3.9.7"
  }
 },
 "nbformat": 4,
 "nbformat_minor": 5
}
