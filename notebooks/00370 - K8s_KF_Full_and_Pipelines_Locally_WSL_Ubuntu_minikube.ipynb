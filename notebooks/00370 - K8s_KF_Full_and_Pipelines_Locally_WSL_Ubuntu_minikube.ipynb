{
 "cells": [
  {
   "cell_type": "markdown",
   "metadata": {},
   "source": [
    "# Installation Notes for K8s (kind) and Kubeflow PIPELINES Locally on WSL Ubuntu"
   ]
  },
  {
   "cell_type": "markdown",
   "metadata": {},
   "source": [
    "# Kubeflow Pipelines"
   ]
  },
  {
   "cell_type": "markdown",
   "metadata": {},
   "source": [
    "## Docker\n",
    "```\n",
    "# Install Docker Desktop (for Windows or macOS)\n",
    "# Enable WSL2 support in Docker settings (for Windows)\n",
    "# https://docs.docker.com/desktop/windows/install/\n",
    "# Docker installed inside WSL has internet connectivity issues with minikube (Use Docker Desktop instead)\n",
    "\n",
    "$ sudo apt-get update\n",
    "$ sudo apt-get upgrade\n",
    "\n",
    "$ docker --version\n",
    "```"
   ]
  },
  {
   "cell_type": "markdown",
   "metadata": {},
   "source": [
    "## Kubernetes cluster (minikube)\n",
    "https://kubernetes.io/docs/tutorials/hello-minikube/\n",
    "```\n",
    "# See another notebook for how to install minikube\n",
    "minikube start --cpus 12 --memory 32g --disk-size 60g --driver=docker\n",
    "\n",
    "watch -c minikube kubectl -- get po -A\n",
    "minikube logs\n",
    "\n",
    "#alias kubectl='minikube kubectl'\n",
    "\n",
    "minikube dashboard\n",
    "\n",
    "kubectl cluster-info\n",
    "```"
   ]
  },
  {
   "cell_type": "markdown",
   "metadata": {},
   "source": [
    "## Get Full Kubeflow (not working, see below)\n",
    "https://github.com/kubeflow/manifests\n",
    "```\n",
    "# Kubeflow 1.4.0 is not compatible with the latest versions of of kustomize 4.x.\n",
    "https://github.com/kubeflow/manifests#frequently-asked-questions\n",
    "\n",
    "cd /home/ksatola/git/MLOps/notebooks/kubeflow_kustomization\n",
    "git clone https://github.com/kubeflow/manifests\n",
    "    \n",
    "# Deployment takes several minutes\n",
    "while ! kubectl kustomize build example | kubectl apply -k example/; do echo \"Retrying to apply resources\"; sleep 10; done\n",
    "\n",
    "watch -c minikube kubectl -- get po -A\n",
    "\n",
    "# Run the following to port-forward Istio's Ingress-Gateway to local port 8080:\n",
    "kubectl port-forward svc/istio-ingressgateway -n istio-system 8080:80\n",
    "    \n",
    "#You can access the Kubeflow Central Dashboard by doing the following:\n",
    "- Open your browser and visit http://localhost:8080. You should get the Dex login screen.\n",
    "- Login with the default user's credential. The default email address is `user@example.com` and the default password is `12341234`.\n",
    "```"
   ]
  },
  {
   "cell_type": "markdown",
   "metadata": {},
   "source": [
    "## Kubeflow Pipelines (not working)\n",
    "https://www.kubeflow.org/docs/components/pipelines/overview/pipelines-overview/\n",
    "```\n",
    "# env/platform-agnostic-pns hasn't been publically released, so you will install it from master\n",
    "export PIPELINE_VERSION=1.7.0\n",
    "minikube kubectl -- apply -k \"github.com/kubeflow/pipelines/manifests/kustomize/cluster-scoped-resources?ref=$PIPELINE_VERSION\"\n",
    "minikube kubectl -- wait --for condition=established --timeout=60s crd/applications.app.k8s.io\n",
    "minikube kubectl -- apply -k \"github.com/kubeflow/pipelines/manifests/kustomize/env/platform-agnostic-pns?ref=$PIPELINE_VERSION\"\n",
    "\n",
    "minikube logs\n",
    "\n",
    "watch -c minikube kubectl -- get po -A\n",
    "\n",
    "minikube kubectl -- port-forward -n kubeflow svc/ml-pipeline-ui 8585:80\n",
    "# Open: http://localhost:8585/\n",
    "\n",
    "# https://kubernetes.io/docs/reference/kubectl/cheatsheet/\n",
    "minikube kubectl -- get services\n",
    "minikube kubectl -- get pods -n kubeflow\n",
    "\n",
    "\n",
    "```"
   ]
  },
  {
   "cell_type": "markdown",
   "metadata": {},
   "source": [
    "## Cleaning\n",
    "```\n",
    "minikube pause\n",
    "minikube unpause\n",
    "minikube stop\n",
    "\n",
    "minikube delete --all\n",
    "\n",
    "# Remove docker if installed inside WSL (Ubuntu)\n",
    "docker system prune\n",
    "# https://docs.docker.com/engine/install/ubuntu/\n",
    "sudo apt-get purge docker-ce docker-ce-cli containerd.io\n",
    "sudo rm -rf /var/lib/docker\n",
    "sudo rm -rf /var/lib/containerd\n",
    "```"
   ]
  },
  {
   "cell_type": "code",
   "execution_count": null,
   "metadata": {},
   "outputs": [],
   "source": []
  }
 ],
 "metadata": {
  "kernelspec": {
   "display_name": "Python 3",
   "language": "python",
   "name": "python3"
  },
  "language_info": {
   "codemirror_mode": {
    "name": "ipython",
    "version": 3
   },
   "file_extension": ".py",
   "mimetype": "text/x-python",
   "name": "python",
   "nbconvert_exporter": "python",
   "pygments_lexer": "ipython3",
   "version": "3.8.10"
  }
 },
 "nbformat": 4,
 "nbformat_minor": 5
}
